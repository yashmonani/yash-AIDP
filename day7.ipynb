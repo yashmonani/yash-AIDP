{
 "cells": [
  {
   "cell_type": "code",
   "execution_count": 1,
   "metadata": {},
   "outputs": [],
   "source": [
    "import numpy as np"
   ]
  },
  {
   "cell_type": "code",
   "execution_count": 24,
   "metadata": {},
   "outputs": [
    {
     "data": {
      "text/plain": [
       "array([3, 4, 5, 6, 4])"
      ]
     },
     "execution_count": 24,
     "metadata": {},
     "output_type": "execute_result"
    }
   ],
   "source": [
    "a=np.array([3,4,5,6,4])\n",
    "a"
   ]
  },
  {
   "cell_type": "code",
   "execution_count": 9,
   "metadata": {},
   "outputs": [],
   "source": [
    "def show_arr(arr):\n",
    " print(a.shape)\n",
    " print(a.size)\n",
    " print(a.dtype)\n",
    " len(a)\n",
    " print(a.ndim)"
   ]
  },
  {
   "cell_type": "code",
   "execution_count": 31,
   "metadata": {},
   "outputs": [
    {
     "name": "stdout",
     "output_type": "stream",
     "text": [
      "(5,)\n",
      "5\n",
      "int32\n",
      "1\n"
     ]
    },
    {
     "data": {
      "text/plain": [
       "3"
      ]
     },
     "execution_count": 31,
     "metadata": {},
     "output_type": "execute_result"
    }
   ],
   "source": [
    "b= np.array([[[10,100],[11,110],[13,130],[14,140]],#fetch(2*2*2)\n",
    "             [[45,145],[22,122],[9,19],[2,12]],#fetch(1*2*2),fetch(2*1*1)\n",
    "             [[6,16],[5,15],[1,11],[8,18]]])#comma seperted is rows , fetch(3*1*1)\n",
    "b\n",
    "show_arr(a)\n",
    "b.ndim"
   ]
  },
  {
   "cell_type": "code",
   "execution_count": 15,
   "metadata": {},
   "outputs": [],
   "source": [
    "#array operation\n",
    "# item accessing-subscripting, slicing\n",
    "# item assignment\n",
    "# item insertino\n",
    "# item deletion\n",
    "# arithmetic"
   ]
  },
  {
   "cell_type": "code",
   "execution_count": 32,
   "metadata": {},
   "outputs": [
    {
     "data": {
      "text/plain": [
       "array([[13],\n",
       "       [ 9],\n",
       "       [ 1]])"
      ]
     },
     "execution_count": 32,
     "metadata": {},
     "output_type": "execute_result"
    }
   ],
   "source": [
    "c=np.array([[10,11,13,14],[45,22,9,2],[6,5,1,8]])#fetch (1*4)\n",
    "#subrscripting-accessing from 3d [1st:1st end: stepsize, 2nd,3rd]\n",
    "c[0,0]\n",
    "c[1, -3:]\n",
    "c[:, -2]\n",
    "c[:, -2:-1]"
   ]
  },
  {
   "cell_type": "code",
   "execution_count": 30,
   "metadata": {},
   "outputs": [
    {
     "data": {
      "text/plain": [
       "(3,)"
      ]
     },
     "execution_count": 30,
     "metadata": {},
     "output_type": "execute_result"
    }
   ],
   "source": [
    "c[:, -2].shape"
   ]
  },
  {
   "cell_type": "code",
   "execution_count": 34,
   "metadata": {},
   "outputs": [
    {
     "name": "stdout",
     "output_type": "stream",
     "text": [
      "[[6]]\n",
      "[[[10]\n",
      "  [11]]]\n",
      "[[[11]]\n",
      "\n",
      " [[22]]\n",
      "\n",
      " [[ 5]]]\n",
      "[[[2]]\n",
      "\n",
      " [[8]]]\n",
      "[[[ 13 130]\n",
      "  [ 14 140]]\n",
      "\n",
      " [[  9  19]\n",
      "  [  2  12]]]\n"
     ]
    }
   ],
   "source": [
    "#ans-\n",
    "#1*4\n",
    "print(c[-1:,:1])\n",
    "#1*2*2-\n",
    "print(b[:1,:2,:1])\n",
    "#3*1*1\n",
    "print(b[:,1:2,:1])\n",
    "#2*1*1\n",
    "print(b[-2:, -1:,:1])\n",
    "#2*2*2\n",
    "print(b[:2,-2:, :])\n"
   ]
  },
  {
   "cell_type": "code",
   "execution_count": 37,
   "metadata": {},
   "outputs": [
    {
     "data": {
      "text/plain": [
       "array([[10, 11, 13, 14],\n",
       "       [45, 22, 90,  2],\n",
       "       [ 6,  5,  1,  8]])"
      ]
     },
     "execution_count": 37,
     "metadata": {},
     "output_type": "execute_result"
    }
   ],
   "source": [
    "#item assignment\n",
    "c[1,2]=90\n",
    "c"
   ]
  },
  {
   "cell_type": "code",
   "execution_count": 42,
   "metadata": {},
   "outputs": [
    {
     "data": {
      "text/plain": [
       "array([[  10,   11,   13,   14],\n",
       "       [  45,   22,   90,    2],\n",
       "       [   6,    5,    1,    8],\n",
       "       [   9,   90,  900, 9000]])"
      ]
     },
     "execution_count": 42,
     "metadata": {},
     "output_type": "execute_result"
    }
   ],
   "source": [
    "#item insertion\n",
    "#1d\n",
    "a=np.append(a,80)\n",
    "a\n",
    "#2d\n",
    "np.append(c,[[9,90,900,9000]],axis=0)#axis 0 = row, 1->column\n"
   ]
  },
  {
   "cell_type": "code",
   "execution_count": 45,
   "metadata": {},
   "outputs": [
    {
     "data": {
      "text/plain": [
       "array([[ 10,  11,  13,  14,   9],\n",
       "       [ 45,  22,  90,   2,  90],\n",
       "       [  6,   5,   1,   8, 900]])"
      ]
     },
     "execution_count": 45,
     "metadata": {},
     "output_type": "execute_result"
    }
   ],
   "source": [
    "\n",
    "np.append(c,[[9],[90],[900]],axis=1)"
   ]
  },
  {
   "cell_type": "code",
   "execution_count": 48,
   "metadata": {},
   "outputs": [],
   "source": [
    "#deletion, #single element cannot be deleted\n",
    "c\n",
    "c1=c.copy()"
   ]
  },
  {
   "cell_type": "code",
   "execution_count": 49,
   "metadata": {},
   "outputs": [
    {
     "data": {
      "text/plain": [
       "array([[45, 22, 90,  2],\n",
       "       [ 6,  5,  1,  8]])"
      ]
     },
     "execution_count": 49,
     "metadata": {},
     "output_type": "execute_result"
    }
   ],
   "source": [
    "np.delete(c1, 0, axis=0)"
   ]
  },
  {
   "cell_type": "code",
   "execution_count": 50,
   "metadata": {},
   "outputs": [
    {
     "data": {
      "text/plain": [
       "array([[-10,  -9,  -7,  -6],\n",
       "       [ 25,   2,  70, -18],\n",
       "       [-14, -15, -19, -12]])"
      ]
     },
     "execution_count": 50,
     "metadata": {},
     "output_type": "execute_result"
    }
   ],
   "source": [
    "#arithmetic operations\n",
    "c1-20"
   ]
  },
  {
   "cell_type": "code",
   "execution_count": 51,
   "metadata": {},
   "outputs": [
    {
     "data": {
      "text/plain": [
       "array([[ 30,  31,  33,  34],\n",
       "       [ 65,  42, 110,  22],\n",
       "       [ 26,  25,  21,  28]])"
      ]
     },
     "execution_count": 51,
     "metadata": {},
     "output_type": "execute_result"
    }
   ],
   "source": [
    "c1+20"
   ]
  },
  {
   "cell_type": "code",
   "execution_count": 52,
   "metadata": {},
   "outputs": [
    {
     "data": {
      "text/plain": [
       "array([[ 20,  22,  26,  28],\n",
       "       [ 90,  44, 180,   4],\n",
       "       [ 12,  10,   2,  16]])"
      ]
     },
     "execution_count": 52,
     "metadata": {},
     "output_type": "execute_result"
    }
   ],
   "source": [
    "c1*2"
   ]
  },
  {
   "cell_type": "code",
   "execution_count": 56,
   "metadata": {},
   "outputs": [
    {
     "data": {
      "text/plain": [
       "array([[[10],\n",
       "        [11],\n",
       "        [13],\n",
       "        [14],\n",
       "        [45],\n",
       "        [22]],\n",
       "\n",
       "       [[90],\n",
       "        [ 2],\n",
       "        [ 6],\n",
       "        [ 5],\n",
       "        [ 1],\n",
       "        [ 8]]])"
      ]
     },
     "execution_count": 56,
     "metadata": {},
     "output_type": "execute_result"
    }
   ],
   "source": [
    "#array manupiplation\n",
    "#arr reshape\n",
    "c1.reshape(2,6,1)"
   ]
  },
  {
   "cell_type": "code",
   "execution_count": 57,
   "metadata": {},
   "outputs": [
    {
     "data": {
      "text/plain": [
       "array([[10., 11., 13., 14.],\n",
       "       [45., 22., 90.,  2.],\n",
       "       [ 6.,  5.,  1.,  8.]])"
      ]
     },
     "execution_count": 57,
     "metadata": {},
     "output_type": "execute_result"
    }
   ],
   "source": [
    "#arr.astype()\n",
    "c1.astype(float)"
   ]
  },
  {
   "cell_type": "code",
   "execution_count": 58,
   "metadata": {},
   "outputs": [
    {
     "data": {
      "text/plain": [
       "array([[10, 11, 13, 14],\n",
       "       [45, 22, 90,  2],\n",
       "       [ 6,  5,  1,  8]], dtype=uint16)"
      ]
     },
     "execution_count": 58,
     "metadata": {},
     "output_type": "execute_result"
    }
   ],
   "source": [
    "c1.astype('uint16')"
   ]
  },
  {
   "cell_type": "code",
   "execution_count": 59,
   "metadata": {},
   "outputs": [],
   "source": [
    "#more functions to create array\n",
    "#np.array()\n",
    "#np.arange()->array version of range func, also allows float\n",
    "#np.linspace()->start,end,no. of items\n",
    "#np.ones()->generate all values as '1'\n",
    "#np.zeroes()->generate all values\n",
    "#np.random.random()\n",
    "#mp.random.randint()"
   ]
  },
  {
   "cell_type": "code",
   "execution_count": 61,
   "metadata": {},
   "outputs": [
    {
     "data": {
      "text/plain": [
       "array([[5, 5, 5, 5],\n",
       "       [5, 5, 5, 5],\n",
       "       [5, 5, 5, 5]])"
      ]
     },
     "execution_count": 61,
     "metadata": {},
     "output_type": "execute_result"
    }
   ],
   "source": [
    "np.ones((3,4),dtype='int')*5"
   ]
  },
  {
   "cell_type": "code",
   "execution_count": null,
   "metadata": {},
   "outputs": [],
   "source": []
  },
  {
   "cell_type": "code",
   "execution_count": null,
   "metadata": {},
   "outputs": [],
   "source": []
  }
 ],
 "metadata": {
  "kernelspec": {
   "display_name": "Python 3",
   "language": "python",
   "name": "python3"
  },
  "language_info": {
   "codemirror_mode": {
    "name": "ipython",
    "version": 3
   },
   "file_extension": ".py",
   "mimetype": "text/x-python",
   "name": "python",
   "nbconvert_exporter": "python",
   "pygments_lexer": "ipython3",
   "version": "3.10.0"
  },
  "orig_nbformat": 4
 },
 "nbformat": 4,
 "nbformat_minor": 2
}
