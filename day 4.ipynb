{
 "cells": [
  {
   "cell_type": "code",
   "execution_count": 1,
   "metadata": {},
   "outputs": [],
   "source": [
    "#User defined function\n"
   ]
  },
  {
   "cell_type": "code",
   "execution_count": 2,
   "metadata": {},
   "outputs": [],
   "source": [
    "#statement: \n",
    "#    expr\n",
    "#    expr2\n",
    "\n",
    "def yash():\n",
    "    print('hi')\n",
    "    "
   ]
  },
  {
   "cell_type": "code",
   "execution_count": 3,
   "metadata": {},
   "outputs": [
    {
     "name": "stdout",
     "output_type": "stream",
     "text": [
      "hi\n"
     ]
    }
   ],
   "source": [
    "yash()"
   ]
  },
  {
   "cell_type": "code",
   "execution_count": 5,
   "metadata": {},
   "outputs": [],
   "source": [
    "#Types\n",
    "#1. No input, No ouput\n",
    "#2. input, No ouput\n",
    "#3. No input,  ouput\n",
    "#4. input,  ouput\n",
    "\n",
    "def abc1():\n",
    "    print('No input , no output')\n",
    "\n",
    "def abc2(x):\n",
    "    print(f'Its fetching x={x} , no output')\n",
    "\n",
    "def abc3():\n",
    "    return 'Its a string returned from function as output'\n",
    "\n",
    "def abc4(x,y):\n",
    "    return x*2, y+x+y   "
   ]
  },
  {
   "cell_type": "code",
   "execution_count": 6,
   "metadata": {},
   "outputs": [
    {
     "name": "stdout",
     "output_type": "stream",
     "text": [
      "No input , no output\n",
      "None\n"
     ]
    }
   ],
   "source": [
    "a=abc1()\n",
    "print(a)"
   ]
  },
  {
   "cell_type": "code",
   "execution_count": 7,
   "metadata": {},
   "outputs": [
    {
     "name": "stdout",
     "output_type": "stream",
     "text": [
      "Its a string returned from function as output\n"
     ]
    }
   ],
   "source": [
    "a3 = abc3()\n",
    "print(a3)"
   ]
  },
  {
   "cell_type": "code",
   "execution_count": 8,
   "metadata": {},
   "outputs": [
    {
     "name": "stdout",
     "output_type": "stream",
     "text": [
      "Its fetching x=4 , no output\n",
      "None\n"
     ]
    }
   ],
   "source": [
    "a2=abc2(4)\n",
    "print(a2)"
   ]
  },
  {
   "cell_type": "code",
   "execution_count": 10,
   "metadata": {},
   "outputs": [
    {
     "name": "stdout",
     "output_type": "stream",
     "text": [
      "(4, 8)\n"
     ]
    }
   ],
   "source": [
    "a4=abc4(2,3)\n",
    "print(a4)"
   ]
  },
  {
   "cell_type": "code",
   "execution_count": 12,
   "metadata": {},
   "outputs": [
    {
     "name": "stdout",
     "output_type": "stream",
     "text": [
      "8\n",
      "16\n"
     ]
    }
   ],
   "source": [
    "a41, a42=abc4(4,6)\n",
    "print(a41); print(a42)"
   ]
  },
  {
   "cell_type": "code",
   "execution_count": 13,
   "metadata": {},
   "outputs": [
    {
     "data": {
      "text/plain": [
       "(16, 18)"
      ]
     },
     "execution_count": 13,
     "metadata": {},
     "output_type": "execute_result"
    }
   ],
   "source": [
    "abc4(y=5, x=8)"
   ]
  },
  {
   "cell_type": "code",
   "execution_count": 14,
   "metadata": {},
   "outputs": [
    {
     "data": {
      "text/plain": [
       "(8, 14)"
      ]
     },
     "execution_count": 14,
     "metadata": {},
     "output_type": "execute_result"
    }
   ],
   "source": [
    "abc4(4, y=5)"
   ]
  },
  {
   "cell_type": "code",
   "execution_count": 18,
   "metadata": {},
   "outputs": [
    {
     "ename": "TypeError",
     "evalue": "abc4() got an unexpected keyword argument 'z'",
     "output_type": "error",
     "traceback": [
      "\u001b[1;31m---------------------------------------------------------------------------\u001b[0m",
      "\u001b[1;31mTypeError\u001b[0m                                 Traceback (most recent call last)",
      "Cell \u001b[1;32mIn[18], line 4\u001b[0m\n\u001b[0;32m      1\u001b[0m \u001b[39m#abc4(y=5, 6)\u001b[39;00m\n\u001b[0;32m      2\u001b[0m \u001b[39m#abc4(5)\u001b[39;00m\n\u001b[0;32m      3\u001b[0m \u001b[39m#abc4(4,6,5)\u001b[39;00m\n\u001b[1;32m----> 4\u001b[0m abc4(x\u001b[39m=\u001b[39;49m\u001b[39m5\u001b[39;49m,y\u001b[39m=\u001b[39;49m\u001b[39m7\u001b[39;49m,z\u001b[39m=\u001b[39;49m\u001b[39m8\u001b[39;49m)\n",
      "\u001b[1;31mTypeError\u001b[0m: abc4() got an unexpected keyword argument 'z'"
     ]
    }
   ],
   "source": [
    "#abc4(y=5, 6)\n",
    "#abc4(5)\n",
    "#abc4(4,6,5)\n",
    "abc4(x=5,y=7,z=8)"
   ]
  },
  {
   "cell_type": "code",
   "execution_count": 23,
   "metadata": {},
   "outputs": [
    {
     "name": "stdout",
     "output_type": "stream",
     "text": [
      "(10, 5)\n",
      "(2, 1)\n",
      "(10, 5)\n",
      "(6, 17)\n"
     ]
    }
   ],
   "source": [
    "#Default Values to function args(can always satrt with right)\n",
    "def abc5(x=1,y=0):\n",
    "    return x*2, y+x+y\n",
    "\n",
    "print(abc5(5))\n",
    "print(abc5())\n",
    "print(abc5(5))\n",
    "print(abc5(3,7))\n"
   ]
  },
  {
   "cell_type": "code",
   "execution_count": 26,
   "metadata": {},
   "outputs": [],
   "source": [
    "#*args, **Kwargs\n",
    "def abc6(x=1,y=0,*p,**q):\n",
    "    print(x*2,y+x+y)\n",
    "    print(p)\n",
    "    print(q)\n",
    "    print('')"
   ]
  },
  {
   "cell_type": "code",
   "execution_count": 32,
   "metadata": {},
   "outputs": [
    {
     "name": "stdout",
     "output_type": "stream",
     "text": [
      "2 1\n",
      "()\n",
      "{}\n",
      "\n",
      "10 13\n",
      "()\n",
      "{}\n",
      "\n",
      "10 13\n",
      "(3, 5, 2, 5, 'hi')\n",
      "{}\n",
      "\n",
      "10 13\n",
      "(3, 5, 2, 5, 'hi')\n",
      "{'m': 23, 'n': [4, 76, 5]}\n",
      "\n",
      "10 13\n",
      "(3, 5, 2, 5, 'hi')\n",
      "{'m': 23, 'n': [4, 76, 5]}\n",
      "\n"
     ]
    }
   ],
   "source": [
    "abc6()\n",
    "abc6(5,4)\n",
    "abc6(5,4,3,5,2,5,'hi')#tuple me aajaega\n",
    "abc6(5,4,3,5,2,5,'hi',m=23,n=[4,76,5])\n",
    "abc6(5,4,3,5,2,5,'hi',**{'m':23,'n':[4,76,5]})\n"
   ]
  },
  {
   "cell_type": "code",
   "execution_count": 49,
   "metadata": {},
   "outputs": [
    {
     "name": "stdout",
     "output_type": "stream",
     "text": [
      "marte marte raaz batate jaega\n"
     ]
    },
    {
     "ename": "ZeroDivisionError",
     "evalue": "division by zero",
     "output_type": "error",
     "traceback": [
      "\u001b[1;31m---------------------------------------------------------------------------\u001b[0m",
      "\u001b[1;31mZeroDivisionError\u001b[0m                         Traceback (most recent call last)",
      "Cell \u001b[1;32mIn[49], line 7\u001b[0m\n\u001b[0;32m      5\u001b[0m    a\u001b[39m=\u001b[39m\u001b[39m10\u001b[39m\n\u001b[0;32m      6\u001b[0m    b\u001b[39m=\u001b[39m\u001b[39mint\u001b[39m(\u001b[39minput\u001b[39m(\u001b[39m'\u001b[39m\u001b[39mEnter the number: \u001b[39m\u001b[39m'\u001b[39m))\u001b[39m#string cannot be directly converted into int(floast will give error)\u001b[39;00m\n\u001b[1;32m----> 7\u001b[0m    \u001b[39mprint\u001b[39m(a\u001b[39m/\u001b[39;49mb)\n\u001b[0;32m      8\u001b[0m \u001b[39mexcept\u001b[39;00m \u001b[39mValueError\u001b[39;00m \u001b[39mas\u001b[39;00m err:\n\u001b[0;32m      9\u001b[0m    \u001b[39mprint\u001b[39m(err,b)\n",
      "\u001b[1;31mZeroDivisionError\u001b[0m: division by zero"
     ]
    }
   ],
   "source": [
    "# Errors & Exception Handling\n",
    "### try-except-else-finally\n",
    "##### Bulit-in Exceptions\n",
    "try:\n",
    "   a=10\n",
    "   b=int(input('Enter the number: '))#string cannot be directly converted into int(floast will give error)\n",
    "   print(a/b)\n",
    "except ValueError as err:\n",
    "   print(err,b)\n",
    "   print(a)\n",
    "# except ZeroDivisionError as err:\n",
    "#    print(err,b)\n",
    "#    print(a)\n",
    "# except KeyboardInterrupt as err:\n",
    "#    print('You dont wanna work')\n",
    "# except Exception as err:\n",
    "#    print(err)\n",
    "else:\n",
    "   print('Alright')\n",
    "finally: \n",
    "   print('marte marte raaz batate jaega')\n",
    "\n",
    "print('Work has been done')   "
   ]
  },
  {
   "cell_type": "code",
   "execution_count": 50,
   "metadata": {},
   "outputs": [],
   "source": [
    "##   In Python s function can be\n",
    "#### assigned to a variable\n",
    "#### passed as an argument to a fuction\n",
    "#### defined inside another function\n",
    "#### returned from another fucntion"
   ]
  },
  {
   "cell_type": "code",
   "execution_count": 51,
   "metadata": {},
   "outputs": [
    {
     "name": "stdout",
     "output_type": "stream",
     "text": [
      "10\n",
      "10\n"
     ]
    }
   ],
   "source": [
    "a=10\n",
    "def xyz():\n",
    "    print(a)\n",
    "\n",
    "print(a)\n",
    "xyz()    "
   ]
  },
  {
   "cell_type": "code",
   "execution_count": 54,
   "metadata": {},
   "outputs": [
    {
     "name": "stdout",
     "output_type": "stream",
     "text": [
      "10\n",
      "20\n",
      "10\n"
     ]
    }
   ],
   "source": [
    "a=10\n",
    "def xyz():\n",
    "    #global a\n",
    "    #a+=20\n",
    "    a=20\n",
    "    print(a)\n",
    "\n",
    "print(a)\n",
    "xyz() \n",
    "print(a) "
   ]
  },
  {
   "cell_type": "code",
   "execution_count": 55,
   "metadata": {},
   "outputs": [],
   "source": [
    "def abc(x,y):\n",
    "    return x+y"
   ]
  },
  {
   "cell_type": "code",
   "execution_count": 59,
   "metadata": {},
   "outputs": [
    {
     "name": "stdout",
     "output_type": "stream",
     "text": [
      "7\n"
     ]
    }
   ],
   "source": [
    "print(abc(3,4))\n"
   ]
  },
  {
   "cell_type": "code",
   "execution_count": 60,
   "metadata": {},
   "outputs": [
    {
     "data": {
      "text/plain": [
       "<function __main__.abc(x, y)>"
      ]
     },
     "execution_count": 60,
     "metadata": {},
     "output_type": "execute_result"
    }
   ],
   "source": [
    "abc"
   ]
  },
  {
   "cell_type": "code",
   "execution_count": 61,
   "metadata": {},
   "outputs": [
    {
     "data": {
      "text/plain": [
       "<function __main__.abc(x, y)>"
      ]
     },
     "execution_count": 61,
     "metadata": {},
     "output_type": "execute_result"
    }
   ],
   "source": [
    "k"
   ]
  },
  {
   "cell_type": "code",
   "execution_count": 63,
   "metadata": {},
   "outputs": [],
   "source": [
    "def pqr(f):\n",
    "    f()"
   ]
  },
  {
   "cell_type": "code",
   "execution_count": 64,
   "metadata": {},
   "outputs": [],
   "source": [
    "def pot():\n",
    "    print('pot')"
   ]
  },
  {
   "cell_type": "code",
   "execution_count": 66,
   "metadata": {},
   "outputs": [
    {
     "name": "stdout",
     "output_type": "stream",
     "text": [
      "pot\n"
     ]
    }
   ],
   "source": [
    "pqr(pot)"
   ]
  },
  {
   "cell_type": "code",
   "execution_count": 70,
   "metadata": {},
   "outputs": [
    {
     "name": "stdout",
     "output_type": "stream",
     "text": [
      "Nox\n"
     ]
    }
   ],
   "source": [
    "def basket():\n",
    "    def dox():\n",
    "        print('Nox')\n",
    "    dox()\n",
    "\n",
    "basket()       "
   ]
  },
  {
   "cell_type": "code",
   "execution_count": 72,
   "metadata": {},
   "outputs": [],
   "source": [
    "def awesome(f,m,n):\n",
    "    return f,m+n\n"
   ]
  },
  {
   "cell_type": "code",
   "execution_count": 82,
   "metadata": {},
   "outputs": [],
   "source": [
    "#p=awesome(pot,33,4)\n",
    "p, _ = awesome(pot,33,4)\n"
   ]
  },
  {
   "cell_type": "code",
   "execution_count": 83,
   "metadata": {},
   "outputs": [
    {
     "name": "stdout",
     "output_type": "stream",
     "text": [
      "pot\n"
     ]
    },
    {
     "data": {
      "text/plain": [
       "37"
      ]
     },
     "execution_count": 83,
     "metadata": {},
     "output_type": "execute_result"
    }
   ],
   "source": [
    "#p[0]()\n",
    "p()\n",
    "_"
   ]
  },
  {
   "cell_type": "code",
   "execution_count": 95,
   "metadata": {},
   "outputs": [],
   "source": [
    "#Decorator\n",
    "def nayaWala(f):\n",
    "    def special():\n",
    "        print('Ye toh special hai')\n",
    "        f()\n",
    "        print('Decorate ho gya')\n",
    "    return special   \n",
    "def dusarawala(f):\n",
    "    def special():\n",
    "        print('Ye toh 2 special hai')\n",
    "        f()\n",
    "        print('Decorate 2 ho gya')\n",
    "    return special "
   ]
  },
  {
   "cell_type": "code",
   "execution_count": 96,
   "metadata": {},
   "outputs": [],
   "source": [
    "@dusarawala\n",
    "@nayaWala\n",
    "def simple():\n",
    "    print('Mai to bahut simple hu')\n",
    "    #simple=decorate(simple)"
   ]
  },
  {
   "cell_type": "code",
   "execution_count": 97,
   "metadata": {},
   "outputs": [
    {
     "name": "stdout",
     "output_type": "stream",
     "text": [
      "Ye toh 2 special hai\n",
      "Ye toh special hai\n",
      "Mai to bahut simple hu\n",
      "Decorate ho gya\n",
      "Decorate 2 ho gya\n"
     ]
    }
   ],
   "source": [
    "simple()"
   ]
  },
  {
   "cell_type": "code",
   "execution_count": 98,
   "metadata": {},
   "outputs": [
    {
     "name": "stdout",
     "output_type": "stream",
     "text": [
      "20\n"
     ]
    }
   ],
   "source": [
    "## Annonymous Functions\n",
    "# Lambda Expression\n",
    "\n",
    "#lambda ip_args: op_args\n",
    "\n",
    "def normal(x,y):\n",
    "    return x*y \n",
    "m=normal(4,5)\n",
    "print(m)"
   ]
  },
  {
   "cell_type": "code",
   "execution_count": 101,
   "metadata": {},
   "outputs": [
    {
     "data": {
      "text/plain": [
       "20"
      ]
     },
     "execution_count": 101,
     "metadata": {},
     "output_type": "execute_result"
    }
   ],
   "source": [
    "normals = lambda x,y:x*y\n",
    "normals(4,5)"
   ]
  },
  {
   "cell_type": "code",
   "execution_count": 108,
   "metadata": {},
   "outputs": [
    {
     "name": "stdout",
     "output_type": "stream",
     "text": [
      "[6, 8, 6, 10, 6, 18]\n",
      "[6, 2.0, 6, 10, 6, 18]\n",
      "['3', '4', '3', '5', '3', '9']\n"
     ]
    }
   ],
   "source": [
    "#one liners\n",
    "def my_mapper(func,values):\n",
    "    result = []\n",
    "    for value in values:\n",
    "        result+=[func(value)]\n",
    "    return result\n",
    "data = [3,4,3,5,3,9]\n",
    "def first(v):\n",
    "    return v*2\n",
    "def second(v):\n",
    "    return v*2 if v%2 else v/2\n",
    "def third(v):\n",
    "    return str(v)\n",
    "print(my_mapper(first, data))\n",
    "print(my_mapper(second, data))\n",
    "print(my_mapper(third, data))"
   ]
  },
  {
   "cell_type": "code",
   "execution_count": null,
   "metadata": {},
   "outputs": [],
   "source": []
  }
 ],
 "metadata": {
  "kernelspec": {
   "display_name": "Python 3",
   "language": "python",
   "name": "python3"
  },
  "language_info": {
   "codemirror_mode": {
    "name": "ipython",
    "version": 3
   },
   "file_extension": ".py",
   "mimetype": "text/x-python",
   "name": "python",
   "nbconvert_exporter": "python",
   "pygments_lexer": "ipython3",
   "version": "3.10.0"
  },
  "orig_nbformat": 4
 },
 "nbformat": 4,
 "nbformat_minor": 2
}
